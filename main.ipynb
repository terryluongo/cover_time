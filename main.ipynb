{
 "cells": [
  {
   "cell_type": "code",
   "execution_count": 17,
   "id": "d6961116-296c-446d-9cfc-ca2116a6e96d",
   "metadata": {},
   "outputs": [],
   "source": [
    "import numpy as np\n",
    "\n",
    "import graphviz\n",
    "\n",
    "from IPython.display import IFrame\n",
    "from IPython.display import SVG, display\n"
   ]
  },
  {
   "cell_type": "code",
   "execution_count": 20,
   "id": "1ae3a172-511d-4dc6-ab01-1a7b7c107e42",
   "metadata": {},
   "outputs": [
    {
     "data": {
      "image/svg+xml": [
       "<svg xmlns=\"http://www.w3.org/2000/svg\" xmlns:xlink=\"http://www.w3.org/1999/xlink\" width=\"93pt\" height=\"204pt\" viewBox=\"0.00 0.00 93.00 204.00\">\n",
       "<g id=\"graph0\" class=\"graph\" transform=\"scale(1 1) rotate(0) translate(4 200)\">\n",
       "<polygon fill=\"white\" stroke=\"transparent\" points=\"-4,4 -4,-200 89,-200 89,4 -4,4\"/>\n",
       "<!-- A -->\n",
       "<g id=\"node1\" class=\"node\">\n",
       "<title>A</title>\n",
       "<ellipse fill=\"none\" stroke=\"black\" cx=\"54\" cy=\"-178\" rx=\"27\" ry=\"18\"/>\n",
       "<text text-anchor=\"middle\" x=\"54\" y=\"-174.3\" font-family=\"Times,serif\" font-size=\"14.00\">A</text>\n",
       "</g>\n",
       "<!-- B -->\n",
       "<g id=\"node2\" class=\"node\">\n",
       "<title>B</title>\n",
       "<ellipse fill=\"none\" stroke=\"black\" cx=\"27\" cy=\"-91\" rx=\"27\" ry=\"18\"/>\n",
       "<text text-anchor=\"middle\" x=\"27\" y=\"-87.3\" font-family=\"Times,serif\" font-size=\"14.00\">B</text>\n",
       "</g>\n",
       "<!-- A&#45;&#45;B -->\n",
       "<g id=\"edge1\" class=\"edge\">\n",
       "<title>A--B</title>\n",
       "<path fill=\"none\" stroke=\"black\" d=\"M36.5,-163.93C30.03,-158.03 23.44,-150.48 20,-142 15.72,-131.44 17.59,-118.71 20.47,-108.74\"/>\n",
       "<text text-anchor=\"middle\" x=\"47.5\" y=\"-130.8\" font-family=\"Times,serif\" font-size=\"14.00\">Edge A-B</text>\n",
       "</g>\n",
       "<!-- C -->\n",
       "<g id=\"node3\" class=\"node\">\n",
       "<title>C</title>\n",
       "<ellipse fill=\"none\" stroke=\"black\" cx=\"58\" cy=\"-18\" rx=\"27\" ry=\"18\"/>\n",
       "<text text-anchor=\"middle\" x=\"58\" y=\"-14.3\" font-family=\"Times,serif\" font-size=\"14.00\">C</text>\n",
       "</g>\n",
       "<!-- B&#45;&#45;C -->\n",
       "<g id=\"edge2\" class=\"edge\">\n",
       "<title>B--C</title>\n",
       "<path fill=\"none\" stroke=\"black\" d=\"M34.19,-73.53C39.2,-62.06 45.85,-46.83 50.85,-35.38\"/>\n",
       "</g>\n",
       "<!-- C&#45;&#45;A -->\n",
       "<g id=\"edge3\" class=\"edge\">\n",
       "<title>C--A</title>\n",
       "<path fill=\"none\" stroke=\"black\" d=\"M64.48,-35.6C72.88,-59.49 85.3,-104.81 75,-142 73.11,-148.83 69.49,-155.66 65.78,-161.46\"/>\n",
       "</g>\n",
       "</g>\n",
       "</svg>"
      ],
      "text/plain": [
       "<IPython.core.display.SVG object>"
      ]
     },
     "metadata": {},
     "output_type": "display_data"
    }
   ],
   "source": [
    "g = graphviz.Graph() #\n",
    "#g.node('A', 'Node A')\n",
    "#.node('B', 'Node B')\n",
    "g.edge('A', 'B', 'Edge A-B')\n",
    "g.edge('B','C')\n",
    "g.edge('C','A')\n",
    "\n",
    "# Save the graph as a PDF\n",
    "pdf_path = 'graph'\n",
    "g.render(pdf_path, format='pdf', cleanup=True)  # Save and cleanup .dot file\n",
    "\n",
    "svg_path = 'my_graph'\n",
    "g.render(svg_path, format='svg', cleanup=True)\n",
    "\n",
    "# Display the SVG inline\n",
    "display(SVG(svg_path + \".svg\"))\n",
    "# Display the PDF inline using IFrame\n",
    "#display(IFrame(pdf_path + \".pdf\", width=900, height=600))"
   ]
  }
 ],
 "metadata": {
  "kernelspec": {
   "display_name": "Python 3 (ipykernel)",
   "language": "python",
   "name": "python3"
  },
  "language_info": {
   "codemirror_mode": {
    "name": "ipython",
    "version": 3
   },
   "file_extension": ".py",
   "mimetype": "text/x-python",
   "name": "python",
   "nbconvert_exporter": "python",
   "pygments_lexer": "ipython3",
   "version": "3.12.7"
  }
 },
 "nbformat": 4,
 "nbformat_minor": 5
}
