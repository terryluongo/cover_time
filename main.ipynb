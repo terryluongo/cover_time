{
 "cells": [
  {
   "cell_type": "markdown",
   "id": "3b9d44f6-990d-4725-8136-3b190977c27c",
   "metadata": {},
   "source": [
    "## Need to make these functions:\n",
    "1. Convert dict of lists into graphviz and visulalize (not sure if should be seperate or not)\n",
    "2. Make complete graph\n",
    "3. make linear graph\n",
    "4. make polygon graph\n",
    "5. make star graph\n",
    "6. make lollipop graph\n",
    "7. make generalized star graph\n",
    "8. make random graph with n vertices, m edges "
   ]
  },
  {
   "cell_type": "code",
   "execution_count": 14,
   "id": "d6961116-296c-446d-9cfc-ca2116a6e96d",
   "metadata": {},
   "outputs": [
    {
     "name": "stderr",
     "output_type": "stream",
     "text": [
      "Matplotlib is building the font cache; this may take a moment.\n"
     ]
    }
   ],
   "source": [
    "import numpy as np\n",
    "import graphviz\n",
    "import random\n",
    "import matplotlib.pyplot as plt\n",
    "import shutil\n",
    "import cairosvg\n",
    "from PIL import Image\n",
    "from IPython.display import IFrame\n",
    "from IPython.display import SVG, display"
   ]
  },
  {
   "cell_type": "code",
   "execution_count": 4,
   "id": "b869edfb-1c97-421a-a176-6ea4add1eabe",
   "metadata": {},
   "outputs": [],
   "source": [
    "def make_complete_graph(n):\n",
    "    dict = {}\n",
    "    for i in range(n):\n",
    "        dict[i] = []\n",
    "        for j in range(n-1):\n",
    "            dict[i].append((i + j + 1) % n)\n",
    "    return dict\\\n",
    "\n",
    "\n",
    "def make_cycle_graph(n):\n",
    "    dict = {}\n",
    "    for i in range(n):\n",
    "        dict[i] = []\n",
    "        dict[i].append((i + 1) % n)\n",
    "        dict[i].append((i - 1) % n)\n",
    "    return dict\n",
    "\n",
    "def make_linear_graph(n):\n",
    "    dict = {}\n",
    "    for i in range(n-1):\n",
    "        dict[i] = []\n",
    "        dict[i].append(i + 1)\n",
    "    dict[n-1] = []\n",
    "    for i in range(n-1):\n",
    "        dict[i+1].append(i)\n",
    "    return dict"
   ]
  },
  {
   "cell_type": "code",
   "execution_count": 5,
   "id": "4294795b-6d99-4814-b619-d895fb04051c",
   "metadata": {},
   "outputs": [],
   "source": [
    "def create_gif(svg_files, output_gif, length = 10):\n",
    "    \"\"\"Creates a GIF from a list of SVG files.\"\"\"\n",
    "\n",
    "    # Convert SVGs to PNGs\n",
    "    png_files = []\n",
    "    for svg_file in svg_files:\n",
    "        png_file = svg_file.replace('.svg', '.png')\n",
    "        cairosvg.svg2png(url=svg_file, write_to=png_file)\n",
    "        png_files.append(png_file)\n",
    "\n",
    "    # Create GIF using PIL\n",
    "    images = [Image.open(png_file) for png_file in png_files]\n",
    "    images[0].save(\n",
    "        output_gif, \n",
    "        save_all=True, \n",
    "        append_images=images[1:], \n",
    "        optimize=False, \n",
    "        duration= int((length * 1000) / len(svg_files)), \n",
    "        loop=0 \n",
    "    )\n",
    "\n",
    "# want to create tmp folder of svg files then once we have a gif delete that \n",
    "\n"
   ]
  },
  {
   "cell_type": "code",
   "execution_count": 22,
   "id": "09df6ce6-c05b-4b68-982a-8953f4a41296",
   "metadata": {},
   "outputs": [],
   "source": [
    "class Graph(object):\n",
    "\n",
    "    def __init__(self, graph_dict, graph_type = \"user\"):\n",
    "        self.dict = graph_dict\n",
    "        self.n = len(graph_dict.keys())\n",
    "        self.graph_type = graph_type\n",
    "        self.engine = self.map_engine()\n",
    "        self.graphviz = self.make_graphviz()\n",
    "\n",
    "\n",
    "    @classmethod\n",
    "    def make_classic(cls, n, graph_type):\n",
    "        graph_dict = {}\n",
    "        \n",
    "        if graph_type == \"complete\":\n",
    "            graph_dict = make_complete_graph(n)\n",
    "        elif graph_type == \"cycle\":\n",
    "            graph_dict = make_cycle_graph(n)\n",
    "        elif graph_type == \"linear\":\n",
    "            graph_dict = make_linear_graph(n)\n",
    "\n",
    "        return cls(graph_dict, graph_type)\n",
    "\n",
    "\n",
    "    def map_engine(self):\n",
    "        engine_dict = {\"complete\": \"circo\", \"cycle\": \"circo\", \"linear\": \"dot\", \"user\": \"neato\"}\n",
    "        return engine_dict[self.graph_type] if self.graph_type in engine_dict.keys() else \"neato\"\n",
    "\n",
    "    \n",
    "    # develop flags for different types of graphs like an int flag\n",
    "    def make_graphviz(self):\n",
    "        \n",
    "        g = graphviz.Graph(engine = self.engine) #\n",
    "        keys = list(self.dict.keys())\n",
    "        visited = []\n",
    "\n",
    "        g.attr('node', width='0.4', height='0.4', fixedsize='true', fontsize='8')\n",
    "        \n",
    "        if self.graph_type == \"linear\":\n",
    "            g.attr(rankdir='LR')  # Left to Right layout\n",
    "\n",
    "        for i in range(len(keys)):\n",
    "            a = keys[i]\n",
    "            for j in range(len(self.dict[a])):\n",
    "                if (self.dict[a][j], a) not in visited:\n",
    "                    g.edge(str(a), str(self.dict[a][j]))\n",
    "                    visited.append((a, self.dict[a][j]))\n",
    "        return g\n",
    "\n",
    "    def make_path_gif(self, gif_length = None, path = None):\n",
    "        if path == None:\n",
    "            path = g.cover_walk()\n",
    "\n",
    "        if gif_length == None:\n",
    "            gif_length = self.n\n",
    "\n",
    "\n",
    "        # if not there, regular\n",
    "        # if there and filled in:\n",
    "        # gray and \n",
    "        #self.graphviz.node('2', color = 'green', style = 'filled', fillcolor='gray', penwidth = '3')\n",
    "        #self.graphviz.node('3', style = 'filled', fillcolor='gray')\n",
    "        #self.graphviz.node('4', color = 'green', penwidth = '3')\n",
    "\n",
    "        #svg_path = 'temp'\n",
    "        filepaths = []\n",
    "        visited = set()\n",
    "\n",
    "        for i in range(len(path)):\n",
    "            svg_path = 'temp/' + str(i)\n",
    "            filepaths.append(svg_path + '.svg')\n",
    "\n",
    "            #current point\n",
    "            if path[i] not in visited:\n",
    "                self.graphviz.node(str(path[i]), color = 'green', penwidth = '3')\n",
    "\n",
    "                self.graphviz.render(svg_path, format='svg', cleanup=True)\n",
    "\n",
    "\n",
    "                visited.add(path[i])\n",
    "\n",
    "            else:\n",
    "                self.graphviz.node(str(path[i]), color = 'green', style = 'filled', fillcolor='gray', penwidth = '3')\n",
    "                                   \n",
    "                self.graphviz.render(svg_path, format='svg', cleanup=True)\n",
    "\n",
    "            self.graphviz.node(str(path[i]), style = 'filled', fillcolor = 'gray', color = 'black', penwidth = '1')\n",
    "\n",
    "        for vertex in visited:\n",
    "            self.graphviz.node(str(vertex), color = 'black', fillcolor = 'transparent', penwdith = '1')\n",
    "        \n",
    "            #self.graphviz.node(str(path[i]), color = 'black', penwidth = '1')\n",
    "\n",
    "        \n",
    "        \n",
    "        create_gif(filepaths, \"output.gif\", gif_length)\n",
    "\n",
    "        shutil.rmtree(\"temp\")\n",
    "\n",
    "        # at the end make all vertices normal again\n",
    "    \n",
    "    def display(self):\n",
    "        svg_path = 'temp'\n",
    "        self.graphviz.render(svg_path, format='svg', cleanup=True)\n",
    "        display(SVG(svg_path + \".svg\"))\n",
    "\n",
    "    def export_png(self):\n",
    "        png_path = 'export'\n",
    "        self.graphviz.attr(dpi='300')\n",
    "        self.graphviz.render(png_path, format='png', cleanup=True)\n",
    "\n",
    "\n",
    "    def cover_walk(self, starting_vertex = None, print_out = True):\n",
    "        if (starting_vertex == None):\n",
    "            starting_vertex = list(self.dict.keys())[0]\n",
    "\n",
    "        if (starting_vertex < 0 or starting_vertex > self.n):\n",
    "            raise ValueError(\"The starting vertex cannot be negative or higher than n.\")\n",
    "\n",
    "        path = [starting_vertex] \n",
    "\n",
    "        visited = set()\n",
    "        visited.add(starting_vertex)\n",
    "\n",
    "\n",
    "\n",
    "        cur = starting_vertex\n",
    "\n",
    "        while len(visited) != self.n:\n",
    "            next_vertex = random.choice(self.dict[cur])\n",
    "            path.append(next_vertex)\n",
    "            visited.add(next_vertex)\n",
    "\n",
    "            cur = next_vertex\n",
    "\n",
    "        if print_out:\n",
    "            print(\"Cover Time: \" + str(len(path)))\n",
    "            print(path)\n",
    "            \n",
    "        return path\n",
    "\n",
    "\n",
    "    # make partial cover walk for time to reach n unique vertices\n",
    "\n",
    "    # make avergaging functions for this where it runs it a bunch\n",
    "\n",
    "    def avg_cover_walk(self, n, starting_vertex = None):\n",
    "        # make histogram and display \n",
    "        lengths = [len(self.cover_walk(starting_vertex, False)) for _ in range(n)]\n",
    "        plt.hist(lengths, bins=range(min(lengths), max(lengths) + 1, 1))\n",
    "        plt.title(\"Cover times starting at vertex \" + str(starting_vertex))\n",
    "        plt.xlab(\"Length of \n",
    "        plt.show()\n",
    "        return sum(lengths) / n\n",
    "            \n",
    "        \n",
    "\n",
    "            "
   ]
  },
  {
   "cell_type": "code",
   "execution_count": 7,
   "id": "a3a54b92-aa18-40b3-90b4-08b537b647fb",
   "metadata": {
    "scrolled": true
   },
   "outputs": [
    {
     "data": {
      "image/svg+xml": [
       "<svg xmlns=\"http://www.w3.org/2000/svg\" xmlns:xlink=\"http://www.w3.org/1999/xlink\" width=\"166pt\" height=\"166pt\" viewBox=\"0.00 0.00 165.60 165.60\">\n",
       "<g id=\"graph0\" class=\"graph\" transform=\"scale(1 1) rotate(0) translate(4 161.6)\">\n",
       "<polygon fill=\"white\" stroke=\"transparent\" points=\"-4,4 -4,-161.6 161.6,-161.6 161.6,4 -4,4\"/>\n",
       "<!-- 0 -->\n",
       "<g id=\"node1\" class=\"node\">\n",
       "<title>0</title>\n",
       "<ellipse fill=\"none\" stroke=\"black\" cx=\"78.8\" cy=\"-14.5\" rx=\"14.5\" ry=\"14.5\"/>\n",
       "<text text-anchor=\"middle\" x=\"78.8\" y=\"-12.6\" font-family=\"Times,serif\" font-size=\"8.00\">0</text>\n",
       "</g>\n",
       "<!-- 1 -->\n",
       "<g id=\"node2\" class=\"node\">\n",
       "<title>1</title>\n",
       "<ellipse fill=\"none\" stroke=\"black\" cx=\"14.5\" cy=\"-78.8\" rx=\"14.5\" ry=\"14.5\"/>\n",
       "<text text-anchor=\"middle\" x=\"14.5\" y=\"-76.9\" font-family=\"Times,serif\" font-size=\"8.00\">1</text>\n",
       "</g>\n",
       "<!-- 0&#45;&#45;1 -->\n",
       "<g id=\"edge1\" class=\"edge\">\n",
       "<title>0--1</title>\n",
       "<path fill=\"none\" stroke=\"black\" d=\"M68.47,-24.83C56.54,-36.76 37.03,-56.27 25.02,-68.28\"/>\n",
       "</g>\n",
       "<!-- 3 -->\n",
       "<g id=\"node3\" class=\"node\">\n",
       "<title>3</title>\n",
       "<ellipse fill=\"none\" stroke=\"black\" cx=\"143.1\" cy=\"-78.8\" rx=\"14.5\" ry=\"14.5\"/>\n",
       "<text text-anchor=\"middle\" x=\"143.1\" y=\"-76.9\" font-family=\"Times,serif\" font-size=\"8.00\">3</text>\n",
       "</g>\n",
       "<!-- 0&#45;&#45;3 -->\n",
       "<g id=\"edge2\" class=\"edge\">\n",
       "<title>0--3</title>\n",
       "<path fill=\"none\" stroke=\"black\" d=\"M89.13,-24.83C101.06,-36.76 120.57,-56.27 132.58,-68.28\"/>\n",
       "</g>\n",
       "<!-- 2 -->\n",
       "<g id=\"node4\" class=\"node\">\n",
       "<title>2</title>\n",
       "<ellipse fill=\"none\" stroke=\"black\" cx=\"78.8\" cy=\"-143.1\" rx=\"14.5\" ry=\"14.5\"/>\n",
       "<text text-anchor=\"middle\" x=\"78.8\" y=\"-141.2\" font-family=\"Times,serif\" font-size=\"8.00\">2</text>\n",
       "</g>\n",
       "<!-- 1&#45;&#45;2 -->\n",
       "<g id=\"edge3\" class=\"edge\">\n",
       "<title>1--2</title>\n",
       "<path fill=\"none\" stroke=\"black\" d=\"M24.83,-89.13C36.76,-101.06 56.27,-120.57 68.28,-132.58\"/>\n",
       "</g>\n",
       "<!-- 2&#45;&#45;3 -->\n",
       "<g id=\"edge4\" class=\"edge\">\n",
       "<title>2--3</title>\n",
       "<path fill=\"none\" stroke=\"black\" d=\"M89.13,-132.77C101.06,-120.84 120.57,-101.32 132.58,-89.32\"/>\n",
       "</g>\n",
       "</g>\n",
       "</svg>"
      ],
      "text/plain": [
       "<IPython.core.display.SVG object>"
      ]
     },
     "metadata": {},
     "output_type": "display_data"
    }
   ],
   "source": [
    "g = Graph.make_classic(4, \"cycle\")\n",
    "g.display()"
   ]
  },
  {
   "cell_type": "code",
   "execution_count": 8,
   "id": "cac4b1a0-6929-4931-a31d-ac17945bf4dd",
   "metadata": {},
   "outputs": [
    {
     "name": "stdout",
     "output_type": "stream",
     "text": [
      "Cover Time: 4\n",
      "[0, 3, 2, 1]\n"
     ]
    }
   ],
   "source": [
    "g.make_path_gif()"
   ]
  },
  {
   "cell_type": "code",
   "execution_count": 21,
   "id": "345f75c2-3804-4ba9-8050-d54aaa1e1d26",
   "metadata": {},
   "outputs": [
    {
     "data": {
      "image/png": "[encoded data removed]",
      "text/plain": [
       "<Figure size 640x480 with 1 Axes>"
      ]
     },
     "metadata": {},
     "output_type": "display_data"
    },
    {
     "data": {
      "text/plain": [
       "9.9712"
      ]
     },
     "execution_count": 21,
     "metadata": {},
     "output_type": "execute_result"
    }
   ],
   "source": [
    "star_graph_dict = {1: [2], 2: [1,3,4], 3: [2], 4: [2]}\n",
    "t = Graph(star_graph_dict)\n",
    "\n",
    "t.avg_cover_walk(n = 10000, starting_vertex = 1)"
   ]
  },
  {
   "cell_type": "code",
   "execution_count": 10,
   "id": "77e70320-1f1e-4956-aacc-77e2e0557cee",
   "metadata": {},
   "outputs": [],
   "source": [
    "t.graphviz.node(\"1\", color = 'green', penwidth = '3')\n",
    "t.export_png()"
   ]
  },
  {
   "cell_type": "code",
   "execution_count": 11,
   "id": "07b6d521-eb14-4594-ac28-5edc1a9371b1",
   "metadata": {},
   "outputs": [
    {
     "name": "stdout",
     "output_type": "stream",
     "text": [
      "Cover Time: 15\n",
      "[1, 2, 1, 2, 4, 2, 1, 2, 4, 2, 1, 2, 1, 2, 3]\n"
     ]
    }
   ],
   "source": [
    "path = t.cover_walk(1)\n",
    "t.make_path_gif(t.n, path)"
   ]
  }
 ],
 "metadata": {
  "kernelspec": {
   "display_name": "Python 3 (ipykernel)",
   "language": "python",
   "name": "python3"
  },
  "language_info": {
   "codemirror_mode": {
    "name": "ipython",
    "version": 3
   },
   "file_extension": ".py",
   "mimetype": "text/x-python",
   "name": "python",
   "nbconvert_exporter": "python",
   "pygments_lexer": "ipython3",
   "version": "3.12.7"
  }
 },
 "nbformat": 4,
 "nbformat_minor": 5
}
